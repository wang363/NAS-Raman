{
 "cells": [
  {
   "cell_type": "markdown",
   "metadata": {},
   "source": [
    "## Model parameter calculation"
   ]
  },
  {
   "cell_type": "markdown",
   "metadata": {},
   "source": [
    "#### ResNet_8"
   ]
  },
  {
   "cell_type": "code",
   "execution_count": 9,
   "metadata": {},
   "outputs": [
    {
     "name": "stdout",
     "output_type": "stream",
     "text": [
      "==> Building model..\n",
      "[INFO] Register count_convNd() for <class 'torch.nn.modules.conv.Conv1d'>.\n",
      "[INFO] Register count_normalization() for <class 'torch.nn.modules.batchnorm.BatchNorm1d'>.\n",
      "[INFO] Register zero_ops() for <class 'torch.nn.modules.activation.ReLU'>.\n",
      "[INFO] Register zero_ops() for <class 'torch.nn.modules.dropout.Dropout'>.\n",
      "[INFO] Register zero_ops() for <class 'torch.nn.modules.container.Sequential'>.\n",
      "[INFO] Register count_convNd() for <class 'torch.nn.modules.conv.ConvTranspose1d'>.\n",
      "[INFO] Register count_adap_avgpool() for <class 'torch.nn.modules.pooling.AdaptiveAvgPool1d'>.\n",
      "[INFO] Register count_linear() for <class 'torch.nn.modules.linear.Linear'>.\n",
      "[INFO] Register count_softmax() for <class 'torch.nn.modules.activation.Softmax'>.\n",
      "FLOPs:  32510879.0 params:  1333939.0\n",
      "FLOPs: 32.51 M, params: 1.33 M\n"
     ]
    }
   ],
   "source": [
    "# -- coding: utf-8 --\n",
    "import torch\n",
    "import torchvision\n",
    "from thop import profile\n",
    "from resnet_model import ResNet_8, ResNet_16\n",
    "\n",
    "print('==> Building model..')\n",
    "model = ResNet_8()\n",
    "model.load_state_dict(torch.load('save_model/res_model_8.pth'))\n",
    "dummy_input = torch.randn(1, 1000)\n",
    "flops, params = profile(model, (dummy_input,))\n",
    "print('FLOPs: ', flops, 'params: ', params)\n",
    "print('FLOPs: %.2f M, params: %.2f M' % (flops / 1000000.0, params / 1000000.0))\n",
    "\n"
   ]
  },
  {
   "cell_type": "markdown",
   "metadata": {},
   "source": [
    "#### ResNet_16"
   ]
  },
  {
   "cell_type": "code",
   "execution_count": 10,
   "metadata": {},
   "outputs": [
    {
     "name": "stdout",
     "output_type": "stream",
     "text": [
      "==> Building model..\n",
      "[INFO] Register count_convNd() for <class 'torch.nn.modules.conv.Conv1d'>.\n",
      "[INFO] Register count_normalization() for <class 'torch.nn.modules.batchnorm.BatchNorm1d'>.\n",
      "[INFO] Register zero_ops() for <class 'torch.nn.modules.activation.ReLU'>.\n",
      "[INFO] Register zero_ops() for <class 'torch.nn.modules.dropout.Dropout'>.\n",
      "[INFO] Register zero_ops() for <class 'torch.nn.modules.container.Sequential'>.\n",
      "[INFO] Register count_linear() for <class 'torch.nn.modules.linear.Linear'>.\n",
      "FLOPs:  93968384.0 params:  79731830.0\n",
      "FLOPs: 93.97 M, params: 79.73 M\n"
     ]
    }
   ],
   "source": [
    "print('==> Building model..')\n",
    "model = ResNet_16()\n",
    "model.load_state_dict(torch.load('save_model/res_model_16.pth'))\n",
    "\n",
    "dummy_input = torch.randn(1, 1000)\n",
    "flops, params = profile(model, (dummy_input,))\n",
    "print('FLOPs: ', flops, 'params: ', params)\n",
    "print('FLOPs: %.2f M, params: %.2f M' % (flops / 1000000.0, params / 1000000.0))\n"
   ]
  },
  {
   "cell_type": "markdown",
   "metadata": {},
   "source": [
    "#### Nas-Unet_6"
   ]
  },
  {
   "cell_type": "code",
   "execution_count": 11,
   "metadata": {},
   "outputs": [
    {
     "name": "stdout",
     "output_type": "stream",
     "text": [
      "==> Building model..\n",
      "[INFO] Register zero_ops() for <class 'torch.nn.modules.activation.ReLU'>.\n",
      "[INFO] Register count_normalization() for <class 'torch.nn.modules.normalization.LayerNorm'>.\n",
      "[INFO] Register count_convNd() for <class 'torch.nn.modules.conv.Conv1d'>.\n",
      "[INFO] Register zero_ops() for <class 'torch.nn.modules.container.Sequential'>.\n",
      "[INFO] Register count_adap_avgpool() for <class 'torch.nn.modules.pooling.AdaptiveAvgPool1d'>.\n",
      "[INFO] Register zero_ops() for <class 'torch.nn.modules.pooling.MaxPool1d'>.\n",
      "[INFO] Register count_convNd() for <class 'torch.nn.modules.conv.ConvTranspose1d'>.\n",
      "[INFO] Register count_linear() for <class 'torch.nn.modules.linear.Linear'>.\n",
      "[INFO] Register zero_ops() for <class 'torch.nn.modules.dropout.Dropout'>.\n",
      "[INFO] Register count_softmax() for <class 'torch.nn.modules.activation.Softmax'>.\n",
      "FLOPs:  40637905.0 params:  672943.0\n",
      "FLOPs: 40.64 M, params: 0.67 M\n"
     ]
    }
   ],
   "source": [
    "from models import * \n",
    "from configs import CONFIG_SUPERNET\n",
    "\n",
    "# Model\n",
    "print('==> Building model..')\n",
    "\n",
    "arch_operations =['GSAU', 'skip', 'ir_k7_e1', 'ir_k5_e1', 'graph', 'graph']\n",
    "model = FBNet(n_classes=22, arch_operations=arch_operations,output_features=False)\n",
    "model.load_state_dict(torch.load('output_6/cycle--1/best_model_FBNet.pth'))\n",
    "# temperature = CONFIG_SUPERNET['train_settings']['init_temperature']\n",
    "\n",
    "dummy_input = torch.randn(1, 1000)\n",
    "flops, params = profile(model, (dummy_input,0.1))\n",
    "print('FLOPs: ', flops, 'params: ', params)\n",
    "print('FLOPs: %.2f M, params: %.2f M' % (flops / 1000000.0, params / 1000000.0))"
   ]
  }
 ],
 "metadata": {
  "kernelspec": {
   "display_name": "share_torch",
   "language": "python",
   "name": "python3"
  },
  "language_info": {
   "codemirror_mode": {
    "name": "ipython",
    "version": 3
   },
   "file_extension": ".py",
   "mimetype": "text/x-python",
   "name": "python",
   "nbconvert_exporter": "python",
   "pygments_lexer": "ipython3",
   "version": "3.9.18"
  }
 },
 "nbformat": 4,
 "nbformat_minor": 2
}
