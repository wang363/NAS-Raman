{
 "cells": [
  {
   "cell_type": "markdown",
   "metadata": {},
   "source": [
    "## Model parameter calculation"
   ]
  },
  {
   "cell_type": "markdown",
   "metadata": {},
   "source": [
    "#### Nas_Unet_6"
   ]
  },
  {
   "cell_type": "code",
   "execution_count": 9,
   "metadata": {},
   "outputs": [
    {
     "name": "stdout",
     "output_type": "stream",
     "text": [
      "==> Building model..\n",
      "[INFO] Register zero_ops() for <class 'torch.nn.modules.activation.ReLU'>.\n",
      "[INFO] Register count_normalization() for <class 'torch.nn.modules.normalization.LayerNorm'>.\n",
      "[INFO] Register count_convNd() for <class 'torch.nn.modules.conv.Conv1d'>.\n",
      "[INFO] Register zero_ops() for <class 'torch.nn.modules.container.Sequential'>.\n",
      "[INFO] Register count_adap_avgpool() for <class 'torch.nn.modules.pooling.AdaptiveAvgPool1d'>.\n",
      "[INFO] Register zero_ops() for <class 'torch.nn.modules.pooling.MaxPool1d'>.\n",
      "[INFO] Register count_convNd() for <class 'torch.nn.modules.conv.ConvTranspose1d'>.\n",
      "[INFO] Register count_linear() for <class 'torch.nn.modules.linear.Linear'>.\n",
      "[INFO] Register zero_ops() for <class 'torch.nn.modules.dropout.Dropout'>.\n",
      "[INFO] Register count_softmax() for <class 'torch.nn.modules.activation.Softmax'>.\n",
      "FLOPs:  40637905.0 params:  672943.0\n",
      "FLOPs: 40.64 M, params: 0.67 M\n"
     ]
    }
   ],
   "source": [
    "# -- coding: utf-8 --\n",
    "import torch\n",
    "import torchvision\n",
    "from thop import profile\n",
    "from models import * \n",
    "from configs import CONFIG_SUPERNET\n",
    "arch_operations =['GSAU', 'skip', 'ir_k7_e1', 'ir_k5_e1', 'graph', 'graph']\n",
    "print('==> Building model..')\n",
    "model = FBNet(cnt_classes=22,arch_operations=arch_operations,output_features=True)\n",
    "model.load_state_dict(torch.load('output_6_1/cycle--1/best_model_FBNet.pth'))\n",
    "dummy_input = torch.randn(1, 1000)\n",
    "flops, params = profile(model, (dummy_input,0.1))\n",
    "print('FLOPs: ', flops, 'params: ', params)\n",
    "print('FLOPs: %.2f M, params: %.2f M' % (flops / 1000000.0, params / 1000000.0))\n",
    "\n"
   ]
  },
  {
   "cell_type": "markdown",
   "metadata": {},
   "source": [
    "#### Nas_Unet_10"
   ]
  },
  {
   "cell_type": "code",
   "execution_count": 10,
   "metadata": {},
   "outputs": [
    {
     "name": "stdout",
     "output_type": "stream",
     "text": [
      "==> Building model..\n",
      "[INFO] Register zero_ops() for <class 'torch.nn.modules.activation.ReLU'>.\n",
      "[INFO] Register count_normalization() for <class 'torch.nn.modules.normalization.LayerNorm'>.\n",
      "[INFO] Register count_convNd() for <class 'torch.nn.modules.conv.Conv1d'>.\n",
      "[INFO] Register zero_ops() for <class 'torch.nn.modules.container.Sequential'>.\n",
      "[INFO] Register count_adap_avgpool() for <class 'torch.nn.modules.pooling.AdaptiveAvgPool1d'>.\n",
      "[INFO] Register zero_ops() for <class 'torch.nn.modules.pooling.MaxPool1d'>.\n",
      "[INFO] Register count_linear() for <class 'torch.nn.modules.linear.Linear'>.\n",
      "[INFO] Register zero_ops() for <class 'torch.nn.modules.dropout.Dropout'>.\n",
      "[INFO] Register count_convNd() for <class 'torch.nn.modules.conv.ConvTranspose1d'>.\n",
      "[INFO] Register count_softmax() for <class 'torch.nn.modules.activation.Softmax'>.\n",
      "FLOPs:  67332305.0 params:  1019941.0\n",
      "FLOPs: 67.33 M, params: 1.02 M\n"
     ]
    }
   ],
   "source": [
    "from models10 import * \n",
    "from configs import CONFIG_SUPERNET\n",
    "arch_operations =['GSAU', 'skip', 'ir_k7_e1', 'ir_k5_e1', 'graph', 'graph', 'trans', 'skip', 'ir_k5_e1', 'ir_k5_e1']\n",
    "print('==> Building model..')\n",
    "model = FBNet(cnt_classes=22,arch_operations=arch_operations,output_features=True)\n",
    "model.load_state_dict(torch.load('output_10/cycle--1/best_model_FBNet.pth'))\n",
    "dummy_input = torch.randn(1, 1000)\n",
    "flops, params = profile(model, (dummy_input,0.1))\n",
    "print('FLOPs: ', flops, 'params: ', params)\n",
    "print('FLOPs: %.2f M, params: %.2f M' % (flops / 1000000.0, params / 1000000.0))\n"
   ]
  },
  {
   "cell_type": "markdown",
   "metadata": {},
   "source": [
    "#### Nas_Unet_12"
   ]
  },
  {
   "cell_type": "code",
   "execution_count": 15,
   "metadata": {},
   "outputs": [
    {
     "name": "stdout",
     "output_type": "stream",
     "text": [
      "==> Building model..\n",
      "[INFO] Register zero_ops() for <class 'torch.nn.modules.activation.ReLU'>.\n",
      "[INFO] Register count_normalization() for <class 'torch.nn.modules.normalization.LayerNorm'>.\n",
      "[INFO] Register count_convNd() for <class 'torch.nn.modules.conv.Conv1d'>.\n",
      "[INFO] Register zero_ops() for <class 'torch.nn.modules.container.Sequential'>.\n",
      "[INFO] Register count_adap_avgpool() for <class 'torch.nn.modules.pooling.AdaptiveAvgPool1d'>.\n",
      "[INFO] Register zero_ops() for <class 'torch.nn.modules.pooling.MaxPool1d'>.\n",
      "[INFO] Register count_linear() for <class 'torch.nn.modules.linear.Linear'>.\n",
      "[INFO] Register zero_ops() for <class 'torch.nn.modules.dropout.Dropout'>.\n",
      "[INFO] Register count_convNd() for <class 'torch.nn.modules.conv.ConvTranspose1d'>.\n",
      "[INFO] Register count_softmax() for <class 'torch.nn.modules.activation.Softmax'>.\n",
      "FLOPs:  73533905.0 params:  1716815.0\n",
      "FLOPs: 73.53 M, params: 1.72 M\n"
     ]
    }
   ],
   "source": [
    "from models12 import * \n",
    "from configs import CONFIG_SUPERNET\n",
    "arch_operations =['GSAU', 'skip', 'ir_k7_e1', 'ir_k5_e1', 'graph', 'graph', 'trans', 'skip', 'ir_k5_e1', 'ir_k5_e1', 'trans', 'skip']\n",
    "print('==> Building model..')\n",
    "model = FBNet(n_classes=22,arch_operations=arch_operations,output_features=True)\n",
    "model.load_state_dict(torch.load('output_12/cycle--1/best_model_FBNet.pth'))\n",
    "dummy_input = torch.randn(1, 1000)\n",
    "flops, params = profile(model, (dummy_input,0.1))\n",
    "print('FLOPs: ', flops, 'params: ', params)\n",
    "print('FLOPs: %.2f M, params: %.2f M' % (flops / 1000000.0, params / 1000000.0))"
   ]
  },
  {
   "cell_type": "markdown",
   "metadata": {},
   "source": [
    "#### Nas_9"
   ]
  },
  {
   "cell_type": "code",
   "execution_count": 24,
   "metadata": {},
   "outputs": [
    {
     "name": "stdout",
     "output_type": "stream",
     "text": [
      "==> Building model..\n",
      "[INFO] Register zero_ops() for <class 'torch.nn.modules.activation.ReLU'>.\n",
      "[INFO] Register count_convNd() for <class 'torch.nn.modules.conv.Conv1d'>.\n",
      "[INFO] Register count_normalization() for <class 'torch.nn.modules.normalization.LayerNorm'>.\n",
      "[INFO] Register zero_ops() for <class 'torch.nn.modules.container.Sequential'>.\n",
      "[INFO] Register count_linear() for <class 'torch.nn.modules.linear.Linear'>.\n",
      "[INFO] Register zero_ops() for <class 'torch.nn.modules.dropout.Dropout'>.\n",
      "[INFO] Register count_softmax() for <class 'torch.nn.modules.activation.Softmax'>.\n",
      "[INFO] Register count_convNd() for <class 'torch.nn.modules.conv.ConvTranspose1d'>.\n",
      "FLOPs:  83326465.0 params:  1685881.0\n",
      "FLOPs: 83.33 M, params: 1.69 M\n"
     ]
    }
   ],
   "source": [
    "# -- coding: utf-8 --\n",
    "import torch\n",
    "import torchvision\n",
    "from thop import profile\n",
    "from models import FBNet,SEARCH_SPACE # _split\n",
    "from configs import CONFIG_SUPERNET\n",
    "\n",
    "# Model\n",
    "print('==> Building model..')\n",
    "arch_operations = ['GSAU', 'ir_k7_e1', 'trans', 'GSAU', 'graph', 'trans', 'graph', 'GSAU', 'GSAU']\n",
    "model = FBNet(SEARCH_SPACE, arch_operations=arch_operations) # , arch_operations,output_features=False\n",
    "model.load_state_dict(torch.load('output_9_1/cycle--1/best_model_FBNet.pth'))\n",
    "model = model.cuda()\n",
    "dummy_input = torch.randn(1, 1, 1000)\n",
    "dummy_input = dummy_input.to('cuda:0')\n",
    "dummy_input = dummy_input.cuda()\n",
    "flops, params = profile(model, (dummy_input)) # ,temperature\n",
    "print('FLOPs: ', flops, 'params: ', params)\n",
    "print('FLOPs: %.2f M, params: %.2f M' % (flops / 1000000.0, params / 1000000.0))\n"
   ]
  },
  {
   "cell_type": "markdown",
   "metadata": {},
   "source": [
    "#### Nas_8"
   ]
  },
  {
   "cell_type": "code",
   "execution_count": 1,
   "metadata": {},
   "outputs": [
    {
     "name": "stdout",
     "output_type": "stream",
     "text": [
      "==> Building model..\n",
      "[INFO] Register zero_ops() for <class 'torch.nn.modules.activation.ReLU'>.\n",
      "[INFO] Register count_convNd() for <class 'torch.nn.modules.conv.Conv1d'>.\n",
      "[INFO] Register count_normalization() for <class 'torch.nn.modules.normalization.LayerNorm'>.\n",
      "[INFO] Register zero_ops() for <class 'torch.nn.modules.container.Sequential'>.\n",
      "[INFO] Register count_linear() for <class 'torch.nn.modules.linear.Linear'>.\n",
      "[INFO] Register zero_ops() for <class 'torch.nn.modules.dropout.Dropout'>.\n",
      "[INFO] Register count_softmax() for <class 'torch.nn.modules.activation.Softmax'>.\n",
      "[INFO] Register count_convNd() for <class 'torch.nn.modules.conv.ConvTranspose1d'>.\n",
      "FLOPs:  73355265.0 params:  1460857.0\n",
      "FLOPs: 73.36 M, params: 1.46 M\n"
     ]
    }
   ],
   "source": [
    "import torch\n",
    "import torchvision\n",
    "from thop import profile\n",
    "from models import FBNet,SEARCH_SPACE_8 # _split\n",
    "from configs import CONFIG_SUPERNET\n",
    "\n",
    "# Model\n",
    "print('==> Building model..')\n",
    "arch_operations = ['GSAU', 'ir_k7_e1', 'trans', 'GSAU', 'graph', 'trans', 'graph', 'GSAU']\n",
    "model = FBNet(SEARCH_SPACE_8, arch_operations=arch_operations) # , arch_operations\n",
    "model.load_state_dict(torch.load('output_8_1/cycle--1/best_model_FBNet.pth'))\n",
    "model = model.cuda()\n",
    "dummy_input = torch.randn(1, 1, 1000)\n",
    "dummy_input = dummy_input.to('cuda:0')\n",
    "dummy_input = dummy_input.cuda()\n",
    "flops, params = profile(model, (dummy_input)) # ,temperature\n",
    "print('FLOPs: ', flops, 'params: ', params)\n",
    "print('FLOPs: %.2f M, params: %.2f M' % (flops / 1000000.0, params / 1000000.0))"
   ]
  },
  {
   "cell_type": "code",
   "execution_count": null,
   "metadata": {},
   "outputs": [],
   "source": []
  },
  {
   "cell_type": "code",
   "execution_count": null,
   "metadata": {},
   "outputs": [],
   "source": []
  }
 ],
 "metadata": {
  "kernelspec": {
   "display_name": "share_torch",
   "language": "python",
   "name": "python3"
  },
  "language_info": {
   "codemirror_mode": {
    "name": "ipython",
    "version": 3
   },
   "file_extension": ".py",
   "mimetype": "text/x-python",
   "name": "python",
   "nbconvert_exporter": "python",
   "pygments_lexer": "ipython3",
   "version": "3.9.18"
  }
 },
 "nbformat": 4,
 "nbformat_minor": 2
}
